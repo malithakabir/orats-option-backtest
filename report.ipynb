{
 "cells": [
  {
   "cell_type": "code",
   "execution_count": null,
   "id": "e185dd98",
   "metadata": {},
   "outputs": [],
   "source": []
  },
  {
   "cell_type": "markdown",
   "id": "ea71757c",
   "metadata": {},
   "source": [
    "# Backtesting and report"
   ]
  },
  {
   "cell_type": "code",
   "execution_count": 1,
   "id": "6b56955c",
   "metadata": {},
   "outputs": [],
   "source": [
    "import os\n",
    "import pandas as pd\n",
    "from orats_backtest_v12 import Backtester\n",
    "from backtest_report import option_trade_report\n",
    "import logging"
   ]
  },
  {
   "cell_type": "code",
   "execution_count": 2,
   "id": "cbb14e0e",
   "metadata": {},
   "outputs": [
    {
     "name": "stdout",
     "output_type": "stream",
     "text": [
      "max_dte: 8\n",
      "min_rr: 0.8\n",
      "max_spread_pct: 0.15\n",
      "deltas: [0.1, 0.15, 0.2, 0.25, 0.3, 0.35, 0.4, 0.45, 0.5, 0.55, 0.6, 0.65, 0.7, 0.75, 0.8, 0.85, 0.9, 0.95, 1.0]\n"
     ]
    }
   ],
   "source": [
    "\n",
    "max_dte = 8 # 8 days to expiration\n",
    "min_rr = 0.8 # min risk/reward ratio\n",
    "max_spread_pct = 0.15 # max spread percentage of underlying price\n",
    "deltas = [round(i / 100, 2) for i in range(10, 101, 5)] # delta range for options to be traded\n",
    "print('max_dte:', max_dte)\n",
    "print('min_rr:', min_rr)\n",
    "print('max_spread_pct:', max_spread_pct)\n",
    "print('deltas:', deltas)"
   ]
  },
  {
   "cell_type": "code",
   "execution_count": 3,
   "id": "7bd4ca55",
   "metadata": {},
   "outputs": [
    {
     "name": "stderr",
     "output_type": "stream",
     "text": [
      "2025-05-22 21:23:41,847 INFO: Loading CSVs …\n",
      "2025-05-22 21:24:33,661 INFO: Trade log saved to results/part_001_trades.csv\n",
      "2025-05-22 21:24:33,662 INFO: Loading CSVs …\n",
      "2025-05-22 21:25:37,597 INFO: Trade log saved to results/part_002_trades.csv\n",
      "2025-05-22 21:25:37,598 INFO: Loading CSVs …\n",
      "2025-05-22 21:26:38,732 INFO: Trade log saved to results/part_003_trades.csv\n",
      "2025-05-22 21:26:38,733 INFO: Loading CSVs …\n",
      "2025-05-22 21:27:38,448 INFO: Trade log saved to results/part_004_trades.csv\n",
      "2025-05-22 21:27:38,450 INFO: Loading CSVs …\n",
      "2025-05-22 21:28:36,727 INFO: Trade log saved to results/part_005_trades.csv\n",
      "2025-05-22 21:28:36,728 INFO: Loading CSVs …\n",
      "2025-05-22 21:29:41,164 INFO: Trade log saved to results/part_006_trades.csv\n",
      "2025-05-22 21:29:41,165 INFO: Loading CSVs …\n",
      "2025-05-22 21:30:51,374 INFO: Trade log saved to results/part_007_trades.csv\n",
      "2025-05-22 21:30:51,375 INFO: Loading CSVs …\n",
      "2025-05-22 21:32:00,170 INFO: Trade log saved to results/part_008_trades.csv\n",
      "2025-05-22 21:32:00,170 INFO: Loading CSVs …\n",
      "2025-05-22 21:33:03,842 INFO: Trade log saved to results/part_009_trades.csv\n",
      "2025-05-22 21:33:03,842 INFO: Loading CSVs …\n",
      "2025-05-22 21:34:02,943 INFO: Trade log saved to results/part_010_trades.csv\n",
      "2025-05-22 21:34:02,944 INFO: Loading CSVs …\n",
      "2025-05-22 21:34:57,754 INFO: Trade log saved to results/part_011_trades.csv\n",
      "2025-05-22 21:34:57,756 INFO: Loading CSVs …\n",
      "2025-05-22 21:35:52,805 INFO: Trade log saved to results/part_012_trades.csv\n",
      "2025-05-22 21:35:52,806 INFO: Loading CSVs …\n",
      "2025-05-22 21:36:46,581 INFO: Trade log saved to results/part_013_trades.csv\n",
      "2025-05-22 21:36:46,582 INFO: Loading CSVs …\n",
      "2025-05-22 21:37:39,473 INFO: Trade log saved to results/part_014_trades.csv\n",
      "2025-05-22 21:37:39,474 INFO: Loading CSVs …\n",
      "2025-05-22 21:38:17,151 INFO: Trade log saved to results/part_015_trades.csv\n",
      "2025-05-22 21:38:17,152 INFO: Loading CSVs …\n",
      "2025-05-22 21:39:03,098 INFO: Trade log saved to results/part_016_trades.csv\n",
      "2025-05-22 21:39:03,099 INFO: Loading CSVs …\n",
      "2025-05-22 21:39:51,338 INFO: Trade log saved to results/part_017_trades.csv\n",
      "2025-05-22 21:39:51,339 INFO: Loading CSVs …\n",
      "2025-05-22 21:40:41,508 INFO: Trade log saved to results/part_018_trades.csv\n",
      "2025-05-22 21:40:41,509 INFO: Loading CSVs …\n",
      "2025-05-22 21:41:14,644 INFO: Trade log saved to results/part_019_trades.csv\n",
      "2025-05-22 21:41:14,646 INFO: Loading CSVs …\n",
      "2025-05-22 21:41:48,738 INFO: Trade log saved to results/part_020_trades.csv\n"
     ]
    }
   ],
   "source": [
    "# all the signal files are in the same directory, they are named part_001.csv, part_002.csv, etc.\n",
    "signal_file_ids = [\n",
    "    '001', '002',\n",
    "    '003', '004', '005', '006', '007', '008', '009', '010', \n",
    "    '011', '012', '013', '014', '015', '016', '017', '018', '019', '020'\n",
    "    ]\n",
    "\n",
    "# run the backtest for each signal file\n",
    "for signal_file_id in signal_file_ids:\n",
    "    bt = Backtester(\n",
    "        signals_path=f\"signal-files/part_{signal_file_id}.csv\",\n",
    "        orats_path=f\"output/part_{signal_file_id}_entry.csv.gz\", # orats entry file\n",
    "        exit_path=\"output/exit.csv.gz\", # orats exit file\n",
    "        deltas=deltas,\n",
    "        max_spread_pct=max_spread_pct,\n",
    "        min_rr=min_rr,\n",
    "        max_dte=max_dte\n",
    "    )\n",
    "\n",
    "    trades = bt.run()\n",
    "    if not trades.empty:\n",
    "        os.makedirs(\"results\", exist_ok=True)\n",
    "        out_file = f\"results/part_{signal_file_id}_trades.csv\"\n",
    "        trades.to_csv(out_file, index=False)\n",
    "        logging.info(\"Trade log saved to %s\", out_file)\n"
   ]
  },
  {
   "cell_type": "code",
   "execution_count": 5,
   "id": "e5d33cf0",
   "metadata": {},
   "outputs": [
    {
     "name": "stdout",
     "output_type": "stream",
     "text": [
      "                   timestamp  signal_id              name  \\\n",
      "0  2023-05-03 15:34:53+00:00          3   call_spread_0.3   \n",
      "1  2023-05-03 15:34:53+00:00          3   call_spread_0.3   \n",
      "2  2023-05-05 20:15:00+00:00          3   call_spread_0.3   \n",
      "3  2023-05-05 20:15:00+00:00          3   call_spread_0.3   \n",
      "4  2023-05-03 15:34:53+00:00          3  call_spread_0.35   \n",
      "\n",
      "              order_ref  quantity          order symbol asset right  \\\n",
      "0   3|call_spread_0.3|1         1    Buy-to-Open    MPC   OPT  Call   \n",
      "1   3|call_spread_0.3|1        -1   Sell-to-Open    MPC   OPT  Call   \n",
      "2   3|call_spread_0.3|2        -1  Sell-to-Close    MPC   OPT  Call   \n",
      "3   3|call_spread_0.3|2         1   Buy-to-Close    MPC   OPT  Call   \n",
      "4  3|call_spread_0.35|1         1    Buy-to-Open    MPC   OPT  Call   \n",
      "\n",
      "   multiplier  ... filled_price  credit  transaction_fee  underlier     delta  \\\n",
      "0         100  ...         0.77   -77.0              0.5     111.73  0.294956   \n",
      "1         100  ...         0.27    27.0              0.5     111.73  0.145242   \n",
      "2         100  ...         0.00     0.0              0.0     106.89  0.000000   \n",
      "3         100  ...         0.00    -0.0              0.0     106.89  0.000000   \n",
      "4         100  ...         1.12  -112.0              0.5     111.73  0.388722   \n",
      "\n",
      "      gamma      vega     theta  dividend  balance  \n",
      "0  0.089372  0.030261 -0.326869       NaN      NaN  \n",
      "1  0.061706  0.020665 -0.214593       NaN      NaN  \n",
      "2  0.000000  0.000000  0.000000       NaN      NaN  \n",
      "3  0.000000  0.000000  0.000000       NaN      NaN  \n",
      "4  0.096342  0.033819 -0.368507       NaN      NaN  \n",
      "\n",
      "[5 rows x 24 columns]\n"
     ]
    }
   ],
   "source": [
    "# joint all trades into one dataframe\n",
    "trades = pd.DataFrame()\n",
    "for filename in os.listdir('results'):\n",
    "    if filename.endswith('_trades.csv'):\n",
    "        trades = pd.concat([trades, pd.read_csv(os.path.join('results', filename))], ignore_index=True)\n",
    "        \n",
    "# save the combined trades to a single file\n",
    "trades.to_csv('results/all_trades.csv', index=False)\n",
    "\n",
    "print(trades.head())"
   ]
  },
  {
   "cell_type": "code",
   "execution_count": null,
   "id": "8af270df",
   "metadata": {},
   "outputs": [],
   "source": []
  }
 ],
 "metadata": {
  "kernelspec": {
   "display_name": ".venv",
   "language": "python",
   "name": "python3"
  },
  "language_info": {
   "codemirror_mode": {
    "name": "ipython",
    "version": 3
   },
   "file_extension": ".py",
   "mimetype": "text/x-python",
   "name": "python",
   "nbconvert_exporter": "python",
   "pygments_lexer": "ipython3",
   "version": "3.12.10"
  }
 },
 "nbformat": 4,
 "nbformat_minor": 5
}
